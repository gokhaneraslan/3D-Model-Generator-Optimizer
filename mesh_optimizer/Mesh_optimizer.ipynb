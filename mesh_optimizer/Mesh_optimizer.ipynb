{
 "cells": [
  {
   "cell_type": "code",
   "execution_count": null,
   "metadata": {},
   "outputs": [],
   "source": [
    "%pip install pyfqmr\n",
    "%pip install trimesh\n",
    "%pip install pymeshlab\n",
    "%pip install open3d plotly # mesh visualization"
   ]
  },
  {
   "cell_type": "code",
   "execution_count": null,
   "metadata": {},
   "outputs": [],
   "source": [
    "import numpy as np\n",
    "import os\n",
    "import open3d as o3d\n",
    "import plotly.graph_objects as go\n",
    "import glob\n",
    "\n",
    "def mesh_visualization(model_path):\n",
    "\n",
    "  mesh_path = glob.glob(os.path.join(model_path))[0]\n",
    "  mesh = o3d.io.read_triangle_mesh(mesh_path)\n",
    "  if not mesh.has_vertex_normals():\n",
    "    mesh.compute_vertex_normals()\n",
    "  if not mesh.has_triangle_normals():\n",
    "    mesh.compute_triangle_normals()\n",
    "\n",
    "  triangles = np.asarray(mesh.triangles)\n",
    "  vertices = np.asarray(mesh.vertices)\n",
    "  colors = None\n",
    "  if mesh.has_triangle_normals():\n",
    "    colors = (0.5, 0.5, 0.5) + np.asarray(mesh.triangle_normals) * 0.5\n",
    "    colors = tuple(map(tuple, colors))\n",
    "  else:\n",
    "    colors = (1.0, 0.0, 0.0)\n",
    "  fig = go.Figure(\n",
    "    data=[\n",
    "      go.Mesh3d(\n",
    "        x=vertices[:,0],\n",
    "        y=vertices[:,1],\n",
    "        z=vertices[:,2],\n",
    "        i=triangles[:,0],\n",
    "        j=triangles[:,1],\n",
    "        k=triangles[:,2],\n",
    "        facecolor=colors,\n",
    "        opacity=0.50)\n",
    "    ],\n",
    "    layout=dict(\n",
    "      scene=dict(\n",
    "        xaxis=dict(visible=False),\n",
    "        yaxis=dict(visible=False),\n",
    "        zaxis=dict(visible=False)\n",
    "      )\n",
    "    )\n",
    "  )\n",
    "  fig.show()\n"
   ]
  },
  {
   "cell_type": "code",
   "execution_count": null,
   "metadata": {},
   "outputs": [],
   "source": [
    "import pymeshlab as ml\n",
    "\n",
    "model_path = \"model.obj\"\n",
    "\n",
    "ms = ml.MeshSet()\n",
    "ms.load_new_mesh(model_path)\n",
    "m = ms.current_mesh()\n",
    "print('input mesh has', m.vertex_number(), 'vertex and', m.face_number(), 'faces')\n",
    "\n",
    "mesh_visualization(model_path)"
   ]
  },
  {
   "cell_type": "code",
   "execution_count": null,
   "metadata": {},
   "outputs": [],
   "source": [
    "#Target number of vertex\n",
    "TARGET=1000\n",
    "\n",
    "#Estimate number of faces to have 100+10000 vertex using Euler\n",
    "numFaces = 100 + 2*TARGET\n",
    "\n",
    "#Simplify the mesh. Only first simplification will be agressive\n",
    "while (ms.current_mesh().vertex_number() > TARGET):\n",
    "    ms.apply_filter('simplification_quadric_edge_collapse_decimation', targetfacenum=numFaces, preservenormal=True)\n",
    "    print(\"Decimated to\", numFaces, \"faces mesh has\", ms.current_mesh().vertex_number(), \"vertex\")\n",
    "    #Refine our estimation to slowly converge to TARGET vertex number\n",
    "    numFaces = numFaces - (ms.current_mesh().vertex_number() - TARGET)\n",
    "\n",
    "m = ms.current_mesh()\n",
    "print('output mesh has', m.vertex_number(), 'vertex and', m.face_number(), 'faces')\n",
    "ms.save_current_mesh('output.obj')\n",
    "\n",
    "mesh_visualization(model_path = 'output.obj')"
   ]
  },
  {
   "cell_type": "code",
   "execution_count": null,
   "metadata": {},
   "outputs": [],
   "source": [
    "import pyfqmr\n",
    "import trimesh as tr\n",
    "\n",
    "#Target number of vertex\n",
    "TARGET=1000\n",
    "AGGRESSIVENESS =7\n",
    "VERBOSE = 10\n",
    "\n",
    "example = tr.load_mesh('model.obj')\n",
    "example"
   ]
  },
  {
   "cell_type": "code",
   "execution_count": null,
   "metadata": {},
   "outputs": [],
   "source": [
    "mesh_simplifier = pyfqmr.Simplify()\n",
    "mesh_simplifier.setMesh(example.vertices, example.faces)"
   ]
  },
  {
   "cell_type": "code",
   "execution_count": null,
   "metadata": {},
   "outputs": [],
   "source": [
    "vertices, faces, normals = mesh_simplifier.getMesh()\n",
    "print(len(vertices), len(faces), len(normals))"
   ]
  },
  {
   "cell_type": "code",
   "execution_count": null,
   "metadata": {},
   "outputs": [],
   "source": [
    "mesh_simplifier.simplify_mesh(target_count = TARGET, aggressiveness=AGGRESSIVENESS, preserve_border=True, verbose=VERBOSE)"
   ]
  },
  {
   "cell_type": "code",
   "execution_count": null,
   "metadata": {},
   "outputs": [],
   "source": [
    "vertices, faces, normals = mesh_simplifier.getMesh()\n",
    "print(len(vertices), len(faces), len(normals))"
   ]
  }
 ],
 "metadata": {
  "language_info": {
   "name": "python"
  }
 },
 "nbformat": 4,
 "nbformat_minor": 2
}
