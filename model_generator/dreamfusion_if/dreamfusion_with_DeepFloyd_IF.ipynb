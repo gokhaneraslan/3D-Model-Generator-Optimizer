{
 "cells": [
  {
   "cell_type": "code",
   "execution_count": null,
   "metadata": {},
   "outputs": [],
   "source": [
    "!git clone https://github.com/threestudio-project/threestudio.git"
   ]
  },
  {
   "cell_type": "code",
   "execution_count": null,
   "metadata": {},
   "outputs": [],
   "source": [
    "%cd threestudio/"
   ]
  },
  {
   "cell_type": "code",
   "execution_count": null,
   "metadata": {},
   "outputs": [],
   "source": [
    "!pip install ninja\n",
    "!pip install lightning==2.0.0 omegaconf==2.3.0 jaxtyping typeguard diffusers transformers accelerate opencv-python tensorboard matplotlib imageio imageio[ffmpeg] trimesh bitsandbytes sentencepiece safetensors huggingface_hub libigl xatlas networkx pysdf PyMCubes wandb torchmetrics controlnet_aux\n",
    "!pip install einops kornia taming-transformers-rom1504 git+https://github.com/openai/CLIP.git # zero123\n",
    "!pip install open3d plotly # mesh visualization"
   ]
  },
  {
   "cell_type": "code",
   "execution_count": null,
   "metadata": {},
   "outputs": [],
   "source": [
    "!pip install git+https://github.com/ashawkey/envlight.git\n",
    "!pip install git+https://github.com/KAIR-BAIR/nerfacc.git@v0.5.2\n",
    "!pip install git+https://github.com/NVlabs/nvdiffrast.git\n",
    "!pip install git+https://github.com/NVlabs/tiny-cuda-nn/#subdirectory=bindings/torch"
   ]
  },
  {
   "cell_type": "code",
   "execution_count": null,
   "metadata": {},
   "outputs": [],
   "source": [
    "%cd /content/threestudio"
   ]
  },
  {
   "cell_type": "code",
   "execution_count": null,
   "metadata": {},
   "outputs": [],
   "source": [
    "from huggingface_hub import interpreter_login\n",
    "\n",
    "interpreter_login()"
   ]
  },
  {
   "cell_type": "code",
   "execution_count": null,
   "metadata": {},
   "outputs": [],
   "source": [
    "prompt = \"a zoomed out DSLR photo of a car\"\n",
    "#prompt = \"a zoomed out DSLR photo of a sofa\"\n",
    "#prompt = \"a zoomed out DSLR photo of a watch\""
   ]
  },
  {
   "cell_type": "code",
   "execution_count": null,
   "metadata": {},
   "outputs": [],
   "source": [
    "!python launch.py --config configs/dreamfusion-if.yaml --train --gpu 0 system.prompt_processor.prompt=\"$prompt\" trainer.max_steps=10000 system.prompt_processor.spawn=false"
   ]
  },
  {
   "cell_type": "code",
   "execution_count": null,
   "metadata": {},
   "outputs": [],
   "source": [
    "from IPython.display import HTML\n",
    "from base64 import b64encode\n",
    "def display_video(video_path):\n",
    "  mp4 = open(video_path,'rb').read()\n",
    "  data_url = \"data:video/mp4;base64,\" + b64encode(mp4).decode()\n",
    "  return HTML(\"\"\"\n",
    "  <video width=1000 controls>\n",
    "    <source src=\"%s\" type=\"video/mp4\">\n",
    "  </video>\n",
    "  \"\"\" % data_url)"
   ]
  },
  {
   "cell_type": "code",
   "execution_count": null,
   "metadata": {},
   "outputs": [],
   "source": [
    "# you will see the path to the saving directory at the end of the training logs\n",
    "# replace save_dir below with that path\n",
    "save_dir = 'path to save directory from threestudio/outputs/dreamfusion-if/'\n",
    "\n",
    "import os\n",
    "import glob\n",
    "video_path = glob.glob(os.path.join(save_dir, \"*-test.mp4\"))[0]\n",
    "display_video(video_path)"
   ]
  },
  {
   "cell_type": "code",
   "execution_count": null,
   "metadata": {},
   "outputs": [],
   "source": [
    "!python launch.py --config $save_dir/../configs/parsed.yaml --export --gpu 0 resume=$save_dir/../ckpts/last.ckpt system.exporter_type=mesh-exporter system.exporter.context_type=cuda system.geometry.isosurface_threshold=15.0"
   ]
  },
  {
   "cell_type": "code",
   "execution_count": null,
   "metadata": {},
   "outputs": [],
   "source": [
    "import numpy as np\n",
    "import open3d as o3d\n",
    "import plotly.graph_objects as go\n",
    "import glob\n",
    "\n",
    "mesh_path = glob.glob(os.path.join(save_dir, \"*-export/model.obj\"))[0]\n",
    "mesh = o3d.io.read_triangle_mesh(mesh_path)\n",
    "if not mesh.has_vertex_normals():\n",
    "  mesh.compute_vertex_normals()\n",
    "if not mesh.has_triangle_normals():\n",
    "  mesh.compute_triangle_normals()\n",
    "\n",
    "triangles = np.asarray(mesh.triangles)\n",
    "vertices = np.asarray(mesh.vertices)\n",
    "colors = None\n",
    "if mesh.has_triangle_normals():\n",
    "  colors = (0.5, 0.5, 0.5) + np.asarray(mesh.triangle_normals) * 0.5\n",
    "  colors = tuple(map(tuple, colors))\n",
    "else:\n",
    "  colors = (1.0, 0.0, 0.0)\n",
    "fig = go.Figure(\n",
    "  data=[\n",
    "    go.Mesh3d(\n",
    "      x=vertices[:,0],\n",
    "      y=vertices[:,1],\n",
    "      z=vertices[:,2],\n",
    "      i=triangles[:,0],\n",
    "      j=triangles[:,1],\n",
    "      k=triangles[:,2],\n",
    "      facecolor=colors,\n",
    "      opacity=0.50)\n",
    "  ],\n",
    "  layout=dict(\n",
    "    scene=dict(\n",
    "      xaxis=dict(visible=False),\n",
    "      yaxis=dict(visible=False),\n",
    "      zaxis=dict(visible=False)\n",
    "    )\n",
    "  )\n",
    ")\n",
    "fig.show()\n"
   ]
  },
  {
   "cell_type": "code",
   "execution_count": null,
   "metadata": {},
   "outputs": [],
   "source": []
  }
 ],
 "metadata": {
  "language_info": {
   "name": "python"
  }
 },
 "nbformat": 4,
 "nbformat_minor": 2
}
